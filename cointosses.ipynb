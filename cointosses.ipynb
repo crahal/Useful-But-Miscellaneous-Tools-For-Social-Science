{
 "cells": [
  {
   "cell_type": "markdown",
   "metadata": {},
   "source": [
    "## Starting to think like a programmer\n",
    "\n",
    "An exercise from the 'Starting to think like a programmer' course ran by IT Services..."
   ]
  },
  {
   "cell_type": "code",
   "execution_count": 1,
   "metadata": {},
   "outputs": [
    {
     "name": "stderr",
     "output_type": "stream",
     "text": [
      "100%|██████████| 10000/10000 [00:00<00:00, 11601.89it/s]\n"
     ]
    },
    {
     "name": "stdout",
     "output_type": "stream",
     "text": [
      "The average number of tosses for Heads, Tails, Heads is 10.0132\n",
      "The average number of tosses for Heads, Tails, Tails is 8.1049\n",
      "The average number of tosses for Tails, Tails, Tails is 13.9063\n"
     ]
    },
    {
     "data": {
      "text/plain": [
       "<Figure size 1000x600 with 1 Axes>"
      ]
     },
     "metadata": {},
     "output_type": "display_data"
    }
   ],
   "source": [
    "import random\n",
    "import numpy as np\n",
    "import matplotlib.pyplot as plt\n",
    "import seaborn as sns\n",
    "from pylab import rcParams\n",
    "from tqdm import tqdm\n",
    "rcParams['figure.figsize'] = 10, 6\n",
    "\n",
    "numbertossesHTH = []\n",
    "numbertossesHTT = []\n",
    "numbertossesTTT = []\n",
    "\n",
    "for _ in tqdm(range(0, 10000)): \n",
    "    tosscounter = 3\n",
    "    tosslist = [random.choice('HT'), random.choice('HT'), random.choice('HT')]\n",
    "    while (tosslist[-3] != 'H') or (tosslist[-2] != 'T') or (tosslist[-1] != 'H'):\n",
    "        tosslist.append(random.choice('HT'))\n",
    "        tosscounter += 1\n",
    "    numbertossesHTH.append(tosscounter)\n",
    "    tosscounter = 3\n",
    "    tosslist = [random.choice('HT'), random.choice('HT'), random.choice('HT')]\n",
    "    while (tosslist[-3] != 'H') or (tosslist[-2] != 'T') or (tosslist[-1] != 'T'):\n",
    "        tosslist.append(random.choice('HT'))\n",
    "        tosscounter += 1\n",
    "    numbertossesHTT.append(tosscounter)\n",
    "    tosscounter = 3\n",
    "    tosslist = [random.choice('HT'), random.choice('HT'), random.choice('HT')]\n",
    "    while (tosslist[-3] != 'T') or (tosslist[-2] != 'T') or (tosslist[-1] != 'T'):\n",
    "        tosslist.append(random.choice('HT'))\n",
    "        tosscounter += 1\n",
    "    numbertossesTTT.append(tosscounter)\n",
    "print('The average number of tosses for Heads, Tails, Heads is',\n",
    "      np.average(numbertossesHTH))\n",
    "print('The average number of tosses for Heads, Tails, Tails is',\n",
    "      np.average(numbertossesHTT))\n",
    "print('The average number of tosses for Tails, Tails, Tails is',\n",
    "      np.average(numbertossesTTT))\n",
    "\n",
    "bins = np.linspace(0, 50, 50)\n",
    "sns.kdeplot(numbertossesHTT, color = 'tomato',gridsize=1000)\n",
    "sns.kdeplot(numbertossesTTT, color = 'steelblue',gridsize=1000)\n",
    "sns.kdeplot(numbertossesHTH, color = 'goldenrod',gridsize=1000)\n",
    "    \n",
    "plt.xlim(0, 50)\n",
    "plt.ylim(0, 0.150)\n",
    "plt.grid(which='major', linestyle='-', linewidth='0.25', color='k', alpha = 0.35)\n",
    "plt.xlabel('Number of Tosses')\n",
    "plt.ylabel('Number of Times Tossed')\n",
    "#sns.despine()\n",
    "plt.show()\n",
    "\n"
   ]
  }
 ],
 "metadata": {
  "kernelspec": {
   "display_name": "Python 3",
   "language": "python",
   "name": "python3"
  },
  "language_info": {
   "codemirror_mode": {
    "name": "ipython",
    "version": 3
   },
   "file_extension": ".py",
   "mimetype": "text/x-python",
   "name": "python",
   "nbconvert_exporter": "python",
   "pygments_lexer": "ipython3",
   "version": "3.6.5"
  }
 },
 "nbformat": 4,
 "nbformat_minor": 2
}
